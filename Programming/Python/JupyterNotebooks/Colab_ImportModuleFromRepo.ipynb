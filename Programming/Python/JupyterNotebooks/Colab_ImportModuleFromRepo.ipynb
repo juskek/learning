{
    "nbformat": 4,
    "nbformat_minor": 0,
    "metadata": {
      "colab": {
        "name": "TestModuleImport.ipynb",
        "provenance": [],
        "collapsed_sections": []
      },
      "kernelspec": {
        "name": "python3",
        "display_name": "Python 3"
      },
      "language_info": {
        "name": "python"
      }
    },
    "cells": [
      {
        "cell_type": "code",
        "execution_count": 16,
        "metadata": {
          "colab": {
            "base_uri": "https://localhost:8080/"
          },
          "id": "rF71Bd-uNlKr",
          "outputId": "68104d1e-25cf-4138-ed77-6bb28cfce196"
        },
        "outputs": [
          {
            "output_type": "stream",
            "name": "stdout",
            "text": [
              "Cloning into 'salary-prediction'...\n",
              "remote: Enumerating objects: 118, done.\u001b[K\n",
              "remote: Counting objects: 100% (118/118), done.\u001b[K\n",
              "remote: Compressing objects: 100% (103/103), done.\u001b[K\n",
              "remote: Total 118 (delta 29), reused 0 (delta 0), pack-reused 0\u001b[K\n",
              "Receiving objects: 100% (118/118), 1.92 MiB | 2.07 MiB/s, done.\n",
              "Resolving deltas: 100% (29/29), done.\n"
            ]
          }
        ],
        "source": [
          "#@title\n",
          "from getpass import getpass\n",
          "import os\n",
          "\n",
          "userCloudName = 'justinkek'\n",
          "appPassword = 'pRHmVsphVWLrJFd9QaFR'\n",
          "print('Email justin.kek@stepex.co for credentials')\n",
          "# user = input('BitBucket Cloud Username (not email): ')\n",
          "# password = getpass('BitBucket App Password (generated from app passwords in settings): ')\n",
          "# os.environ['BITBUCKET_AUTH'] = user + ':' + appPassword\n",
          "# os.environ['BITBUCKET_AUTH'] = user + ':' + password\n",
          "os.environ['BITBUCKET_AUTH'] = userCloudName + ':' + appPassword\n",
          "\n",
          "!git clone https://$BITBUCKET_AUTH@bitbucket.org/stepexchange/salary-prediction.git\n"
        ]
      },
      {
        "cell_type": "code",
        "source": [
          "#@title Import Modules from BitBucket\n",
          "# change to directory of imported repo,\n",
          "# import respective modules\n",
          "# change back to root modules\n",
          "import os\n",
          "os.chdir('/content') # cd to root dir of colab notebook\n",
          "os.chdir('salary-prediction') # cd to imported repo\n",
          "\n",
          "# import relevant modules\n",
          "from cohort_isr_model.main.modules.MyModule import MyModule\n"
        ],
        "metadata": {
          "id": "B-rKPhzyOEx5"
        },
        "execution_count": 52,
        "outputs": []
      },
      {
        "cell_type": "code",
        "source": [
          "myModule = MyModule()\n",
          "print(myModule.multiplyByTwo(2) == 4)\n"
        ],
        "metadata": {
          "colab": {
            "base_uri": "https://localhost:8080/"
          },
          "id": "h-MDYQxzUWwn",
          "outputId": "de01e4f6-c990-4c86-c1a4-132c42951896"
        },
        "execution_count": 55,
        "outputs": [
          {
            "output_type": "stream",
            "name": "stdout",
            "text": [
              "3.7.13 (default, Mar 16 2022, 17:37:17) \n",
              "[GCC 7.5.0]\n",
              "True\n"
            ]
          }
        ]
      },
      {
        "cell_type": "code",
        "source": [
          ""
        ],
        "metadata": {
          "id": "_wZ-nwfKVxAO"
        },
        "execution_count": null,
        "outputs": []
      }
    ]
  }